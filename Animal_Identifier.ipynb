{
 "cells": [
  {
   "cell_type": "markdown",
   "metadata": {},
   "source": [
    "#                                           Animal Identifier"
   ]
  },
  {
   "cell_type": "markdown",
   "metadata": {},
   "source": [
    "This algorithm classifies whether the given image contains a cat or a dog.\n",
    "\n",
    "![catdog](https://upload.wikimedia.org/wikipedia/en/thumb/6/64/CatDog.jpeg/250px-CatDog.jpeg)\n",
    "Is this a cat, or a dog?\n",
    "\n",
    "In this program, we will train a convolutional neural network with a training set that contains 20,000 images. Then it will be tested using a different dataset which contains 5,000 unique images.\n",
    "\n",
    "We will start off by importing the required libraries."
   ]
  },
  {
   "cell_type": "markdown",
   "metadata": {},
   "source": [
    "### Importing libraries"
   ]
  },
  {
   "cell_type": "code",
   "execution_count": null,
   "metadata": {},
   "outputs": [],
   "source": [
    "%matplotlib inline\n",
    "\n",
    "import matplotlib.pyplot as plt\n",
    "import os\n",
    "from sklearn.metrics import accuracy_score\n",
    "from skimage import io, transform\n",
    "from PIL import Image\n",
    "import cv2\n",
    "import numpy as np\n",
    "from keras.models import Sequential # Initialise our neural network model as a sequential network\n",
    "from keras.layers import Conv2D # Convolution operation\n",
    "from keras.layers import Activation#Applies activation function\n",
    "from keras.layers import Dropout#Prevents overfitting by randomly converting few outputs to zero\n",
    "from keras.layers import MaxPooling2D # Maxpooling function\n",
    "from keras.layers import Flatten # Converting 2D arrays into a 1D linear vector\n",
    "from keras.layers import Dense # Regular fully connected neural network\n",
    "from keras.models import model_from_json #Save and load the trained model\n",
    "from keras.preprocessing import image\n",
    "from keras.preprocessing.image import ImageDataGenerator\n",
    "from IPython.display import display"
   ]
  },
  {
   "cell_type": "code",
   "execution_count": null,
   "metadata": {},
   "outputs": [],
   "source": [
    "def reshaped_image(image):\n",
    "    return transform.resize(image,(50, 50, 3)) #Standardizing all images to fixed shape."
   ]
  },
  {
   "cell_type": "markdown",
   "metadata": {},
   "source": [
    "### Function - load_images_from_folder()\n",
    "The name of this funtion is quite intutive and does exactly what the name suggests. This function loads the images from the database and creates two numpy arrays - one for the images, and another for their labels.\n",
    "\n",
    "The labels are manually one hot encoded, i.e., if the image has a cat in it, then the label would be a list which looks like this [1,0] or [0,1] if it contains a dog.\n",
    "The images are loaded using imread() from opencv2 library.\n",
    "The reshaped image is then appended to the image list.\n",
    "The label is appended to the labels list.\n",
    "Both lists are converted into numpy arrays before returning."
   ]
  },
  {
   "cell_type": "code",
   "execution_count": null,
   "metadata": {},
   "outputs": [],
   "source": [
    "def load_images_from_folder():\n",
    "    Images = os.listdir(\"./dogscats/train/animals/\")\n",
    "    images = []\n",
    "    labels = []\n",
    "    for image in Images:\n",
    "            label = [0,0] # [cat,dog]\n",
    "            path = os.path.join(\"./dogscats/train/animals/\", image)\n",
    "            img = cv2.imread(path)\n",
    "            images.append(reshaped_image(img))\n",
    "            if image.find('cat') != -1:\n",
    "                label = [1,0] \n",
    "                labels.append(label)\n",
    "            elif image.find('dog') != -1:\n",
    "                label = [0,1] \n",
    "                labels.append(label)\n",
    "                \n",
    "    return np.array(images), np.array(labels)"
   ]
  },
  {
   "cell_type": "code",
   "execution_count": null,
   "metadata": {},
   "outputs": [],
   "source": [
    "def train_test_split(train_data, train_labels, fraction):\n",
    "    index = int(len(train_data)*fraction)\n",
    "    return train_data[:index], train_labels[:index], train_data[index:], train_labels[index:]"
   ]
  },
  {
   "cell_type": "markdown",
   "metadata": {},
   "source": [
    "### Defining the C.N.N.\n",
    "Convolutional neural network (C.N.N.) are a class of deep, feed-forward neural networks used to analyze imagery. Small filter is passed over the image which maps out certain features and this process is known as convolution. Look at the following gif where the blue square us the image and the green square is the filter.\n",
    "![url](https://cdn-images-1.medium.com/max/750/0*1PSMTM8Brk0hsJuF.)\n",
    "\n",
    "#### Types of layers in this C.N.N.\n",
    "\n",
    "1.Convolution Layer: The convolution layer is the main building block of a convolutional neural network and it comprises of a set of independent filters and each filter is independently convolved with the image generating unique feature maps.\n",
    "\n",
    "2.Activation Layer: Applies the specified activation function on the outputs of the previous layer. We have used RELU and sigmoid.\n",
    "\n",
    "3.Pooling layer: Progressively reduces the spatioal size of the representation and hence reduces the number of parameters and amount of computing.\n",
    "\n",
    "![Max pooling](http://cs231n.github.io/assets/cnn/maxpool.jpeg)\n",
    "\n",
    "\n",
    "4.Flatten Layer: Flattens the input, i.e., changes its dimension.\n",
    "\n",
    "5.Dense Layer: is the fully connected neural network.\n",
    "\n",
    "6.Dropout Layer: prevents overfitting by randomly deactivating certain neurons in a layer.\n",
    "\n",
    "The working of this C.N.N. is briefly exlained by the following gif:\n",
    "\n",
    "![url](http://selmandesign.com/wp-content/uploads/2016/12/SelmanDesign_Q-A_CATorDOG-flow.gif)\n",
    "\n",
    "\n",
    "\n",
    "\n"
   ]
  },
  {
   "cell_type": "code",
   "execution_count": null,
   "metadata": {},
   "outputs": [],
   "source": [
    "def cnn_classifier():\n",
    "    cnn = Sequential()\n",
    "    cnn.add(Conv2D(32, (3,3), input_shape = (50, 50, 3), padding='same'))\n",
    "    cnn.add(Activation('relu'))\n",
    "    cnn.add(MaxPooling2D(pool_size=(2, 2), padding='same'))\n",
    "    \n",
    "    cnn.add(Conv2D(32, (3,3), padding='same'))\n",
    "    cnn.add(Activation('relu'))\n",
    "    cnn.add(MaxPooling2D(pool_size=(2, 2), padding='same'))\n",
    "    \n",
    "    cnn.add(Conv2D(64, (3,3), padding='same'))\n",
    "    cnn.add(Activation('relu'))\n",
    "    cnn.add(MaxPooling2D(pool_size=(2, 2), padding='same'))\n",
    "    \n",
    "    cnn.add(Flatten())\n",
    "    cnn.add(Dense(500))\n",
    "    cnn.add(Activation('relu'))\n",
    "    cnn.add(Dropout(0.5))\n",
    "    cnn.add(Dense(2))\n",
    "    cnn.add(Activation('sigmoid'))\n",
    "    cnn.compile(optimizer = 'rmsprop', loss = 'binary_crossentropy', metrics = ['accuracy'])\n",
    "    print(cnn.summary())\n",
    "    return cnn"
   ]
  },
  {
   "cell_type": "markdown",
   "metadata": {},
   "source": [
    "### Training the model\n",
    "The dataset is split into training sets and testing sets.\n",
    "\n",
    "Number of images in training set = 20,000\n",
    "\n",
    "Number of images in testing set = 5,000\n",
    "\n",
    "64 images would be propagated through the network at a time and the C.N.N. is trained for 30 epochs.\n"
   ]
  },
  {
   "cell_type": "code",
   "execution_count": null,
   "metadata": {},
   "outputs": [],
   "source": [
    "train_data, train_labels = load_images_from_folder()\n",
    "fraction = 0.8\n",
    "train_data, train_labels, test_data, test_labels = train_test_split(train_data, train_labels, fraction)\n",
    "print (\"Train data size = \", len(train_data))\n",
    "print (\"Test data size = \", len(test_data))\n",
    "\n",
    "cnn = cnn_classifier()\n",
    "\n",
    "idx = np.random.permutation(train_data.shape[0])\n",
    "cnn.fit(train_data[idx], train_labels[idx], batch_size = 64, epochs = 30)\n",
    "predicted_test_labels = np.argmax(cnn.predict(test_data), axis=1)\n",
    "test_labels = np.argmax(test_labels, axis=1)\n",
    "\n",
    "print (\"Accuracy score = \", accuracy_score(test_labels, predicted_test_labels))\n",
    "        "
   ]
  },
  {
   "cell_type": "markdown",
   "metadata": {},
   "source": [
    "## Saving the model.\n",
    "It would be sheer stupidity if you had to train your model everytime you had to use it. Therefore, Saving it is an effcient way to re use your model later.\n",
    "The neural network is saved as json and the weights are stored in h5 fromat."
   ]
  },
  {
   "cell_type": "code",
   "execution_count": null,
   "metadata": {},
   "outputs": [],
   "source": [
    "model_json = cnn.to_json()\n",
    "with open(\"model.json\", \"w\") as json_file:\n",
    "    json_file.write(model_json)\n",
    "# serialize weights to HDF5\n",
    "cnn.save_weights(\"model.h5\")\n",
    "print(\"Saved model to disk\")"
   ]
  },
  {
   "cell_type": "markdown",
   "metadata": {},
   "source": [
    "## Testing the model on another image"
   ]
  },
  {
   "cell_type": "code",
   "execution_count": null,
   "metadata": {},
   "outputs": [],
   "source": [
    "image_path = \"./dogscats/test1/9.jpg\"\n",
    "image = cv2.imread(image_path)\n",
    "\n",
    "test_image = np.expand_dims(reshaped_image(image), axis = 0)\n",
    "                        \n",
    "result = cnn.predict(test_image)\n",
    "plt.imshow(image)\n",
    "\n",
    "if result[0][0] > result[0][1]:\n",
    "    print(\"It is a cat.\\nConfidence:\",round(result[0][0]*100, 2), \"%\")\n",
    "else:\n",
    "    print(\"It is a Dog.\\nConfidence:\",round(result[0][1]*100, 2), \"%\")"
   ]
  },
  {
   "cell_type": "markdown",
   "metadata": {},
   "source": [
    "## Conclusion\n",
    "This C.N.N. is able to make predictions with an accuracy of 84%."
   ]
  }
 ],
 "metadata": {
  "kernelspec": {
   "display_name": "Python 3",
   "language": "python",
   "name": "python3"
  },
  "language_info": {
   "codemirror_mode": {
    "name": "ipython",
    "version": 3
   },
   "file_extension": ".py",
   "mimetype": "text/x-python",
   "name": "python",
   "nbconvert_exporter": "python",
   "pygments_lexer": "ipython3",
   "version": "3.6.0"
  }
 },
 "nbformat": 4,
 "nbformat_minor": 2
}
